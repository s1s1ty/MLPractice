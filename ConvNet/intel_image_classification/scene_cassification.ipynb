{
 "metadata": {
  "language_info": {
   "codemirror_mode": {
    "name": "ipython",
    "version": 3
   },
   "file_extension": ".py",
   "mimetype": "text/x-python",
   "name": "python",
   "nbconvert_exporter": "python",
   "pygments_lexer": "ipython3",
   "version": "3.7.10"
  },
  "orig_nbformat": 2,
  "kernelspec": {
   "name": "python3710jvsc74a57bd01cae39bc83afaa6ae335d76f7a4b0ba1c699d709db5d2414062cb7eba9804eb8",
   "display_name": "Python 3.7.10 64-bit ('kaggle-env': conda)"
  }
 },
 "nbformat": 4,
 "nbformat_minor": 2,
 "cells": [
  {
   "cell_type": "code",
   "execution_count": 1,
   "metadata": {},
   "outputs": [],
   "source": [
    "import torch\n",
    "import torchvision\n",
    "import torch.nn as nn\n",
    "from torch.utils.data import DataLoader\n",
    "from torchvision.transforms import transforms\n",
    "from torch.optim import Adam\n",
    "import glob"
   ]
  },
  {
   "cell_type": "code",
   "execution_count": 2,
   "metadata": {},
   "outputs": [],
   "source": [
    "def data_processing():\n",
    "    transformar = transforms.Compose([\n",
    "        transforms.Resize((150, 150)),\n",
    "        transforms.RandomHorizontalFlip(),\n",
    "        transforms.ToTensor(),\n",
    "        transforms.Normalize(\n",
    "            [0.5, 0.5, 0.5], \n",
    "            [0.5, 0.5, 0.5]\n",
    "        ),\n",
    "    ])\n",
    "\n",
    "    train_loader = DataLoader(\n",
    "        torchvision.datasets.ImageFolder(train_path, transform = transformar),\n",
    "        batch_size = 256,\n",
    "        shuffle = True\n",
    "    )\n",
    "    test_loader = DataLoader(\n",
    "        torchvision.datasets.ImageFolder(test_path, transform = transformar),\n",
    "        batch_size = 256,\n",
    "        shuffle = True\n",
    "    )\n",
    "    return train_loader, test_loader\n"
   ]
  },
  {
   "cell_type": "code",
   "execution_count": 3,
   "metadata": {},
   "outputs": [],
   "source": [
    "class ConvNet(nn.Module):\n",
    "    def __init__(self, num_class = 6):\n",
    "        super(ConvNet, self).__init__()\n",
    "\n",
    "        self.conv1 = nn.Conv2d(in_channels = 3, out_channels=12, kernel_size=3, stride=1, padding=1)\n",
    "        self.bn1 = nn.BatchNorm2d(num_features = 12)\n",
    "        self.relu1 = nn.ReLU()\n",
    "\n",
    "        self.pool = nn.MaxPool2d(kernel_size=2)\n",
    "\n",
    "        self.conv2 = nn.Conv2d(in_channels = 12, out_channels=20, kernel_size=3, stride=1, padding=1)\n",
    "        self.relu2 = nn.ReLU()\n",
    "\n",
    "        self.conv3 = nn.Conv2d(in_channels = 20, out_channels = 32, kernel_size=3, stride=1, padding=1)\n",
    "        self.batch_norm3 = nn.BatchNorm2d(num_features = 32)\n",
    "        self.relu3 = nn.ReLU()\n",
    "\n",
    "        self.fc = nn.Linear(in_features=32*75*75, out_features=num_class)\n",
    "\n",
    "    \n",
    "    def forward(self, input):\n",
    "        output = self.conv1(input)\n",
    "        output = self.bn1(output)\n",
    "        output = self.relu1(output)\n",
    "\n",
    "        output = self.pool(output)\n",
    "\n",
    "        output = self.conv2(output)\n",
    "        output = self.relu2(output)\n",
    "\n",
    "        output = self.conv3(output)\n",
    "        output = self.batch_norm3(output)\n",
    "        output = self.relu3(output)\n",
    "\n",
    "        output = output.view(-1, 32*75*75)\n",
    "        return self.fc(output)\n"
   ]
  },
  {
   "cell_type": "code",
   "execution_count": 101,
   "metadata": {},
   "outputs": [],
   "source": [
    "def train():\n",
    "    train_accuracy = 0.0\n",
    "    for i, (images, labels) in enumerate(train_loader):\n",
    "        optimizer.zero_grad()\n",
    "        outputs  = model(images)\n",
    "        loss = loss_function(outputs, labels)\n",
    "        loss.backward()\n",
    "        optimizer.step()\n",
    "\n",
    "        # train_loss += loss.cpu().data * images.size(0)\n",
    "        _, prediction = torch.max(outputs.data, 1)\n",
    "        train_accuracy += int(torch.sum(prediction == labels.data))\n",
    "\n",
    "    return train_accuracy\n"
   ]
  },
  {
   "cell_type": "code",
   "execution_count": 102,
   "metadata": {},
   "outputs": [],
   "source": [
    "def test():\n",
    "    test_accuracy = 0.0\n",
    "    for i, (images, labels) in enumerate(test_loader):\n",
    "        outputs = model(images)\n",
    "        _, prediction = torch.max(outputs.data, 1) # get catagory id\n",
    "        test_accuracy += int(torch.sum(prediction == labels.data))\n",
    "\n",
    "    return test_accuracy\n"
   ]
  },
  {
   "cell_type": "code",
   "execution_count": 103,
   "metadata": {},
   "outputs": [
    {
     "output_type": "stream",
     "name": "stdout",
     "text": [
      "num of epoch =  0  test_accuracy =  0.6766666666666666\n",
      "num of epoch =  1  test_accuracy =  0.7416666666666667\n",
      "num of epoch =  2  test_accuracy =  0.777\n",
      "num of epoch =  3  test_accuracy =  0.769\n",
      "num of epoch =  4  test_accuracy =  0.758\n",
      "num of epoch =  5  test_accuracy =  0.7516666666666667\n",
      "num of epoch =  6  test_accuracy =  0.759\n",
      "num of epoch =  7  test_accuracy =  0.7663333333333333\n",
      "num of epoch =  8  test_accuracy =  0.772\n",
      "num of epoch =  9  test_accuracy =  0.771\n",
      "num of epoch =  10  test_accuracy =  0.7656666666666667\n",
      "num of epoch =  11  test_accuracy =  0.757\n",
      "num of epoch =  12  test_accuracy =  0.757\n",
      "num of epoch =  13  test_accuracy =  0.7596666666666667\n",
      "num of epoch =  14  test_accuracy =  0.765\n"
     ]
    }
   ],
   "source": [
    "total_epoch = 15\n",
    "best_accuracy = 0.0\n",
    "train_path = \"./data/seg_train\"\n",
    "test_path = \"./data/seg_test\"\n",
    "train_count = len(glob.glob(train_path + '/**/*.jpg'))\n",
    "test_count = len(glob.glob(test_path + '/**/*.jpg'))\n",
    "model = ConvNet(num_class = 6)\n",
    "train_loader, test_loader = data_processing()\n",
    "loss_function = nn.CrossEntropyLoss()\n",
    "optimizer = Adam(model.parameters(), lr=0.001, weight_decay=0.0001)\n",
    "\n",
    "for i in range(total_epoch):\n",
    "    train_accuracy = train()\n",
    "    model.eval()\n",
    "    test_accuracy = test()\n",
    "    # train_accuracy = train_accuracy / train_count\n",
    "    test_accuracy = test_accuracy / test_count\n",
    "\n",
    "    print('num of epoch = ', i, ' test_accuracy = ', test_accuracy)\n",
    "\n",
    "    if test_accuracy > best_accuracy:\n",
    "        torch.save(model.state_dict(), 'best_checkpoint.model')\n",
    "        best_accuracy = test_accuracy\n"
   ]
  },
  {
   "cell_type": "code",
   "execution_count": null,
   "metadata": {},
   "outputs": [],
   "source": [
    "# pred\n"
   ]
  }
 ]
}